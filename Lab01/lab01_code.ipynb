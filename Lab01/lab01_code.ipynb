{
 "cells": [
  {
   "cell_type": "markdown",
   "metadata": {},
   "source": [
    "Evan Callia 1-18\n",
    "\n",
    "Problem 1:\n",
    "For each county in Washington, create a GeoJSON file whose filename is the county name and whose contents are the polygons for the block groups within that county. This means that you will end up with as many GeoJSON files as there are counties in WA. Each such file should be named after a county and contain only the block groups from that county.\n",
    "\n",
    "Problem 2:\n",
    "Print out a ranked list, in descending order, of the ten largest total populations in 2013 of counties in Washington, according to this dataset\n",
    "\n",
    "Approach: The jsonOutput method takes 7 perameters which allow for the user to specify which files to use, and the names of the fields to use for each file. The approach is to first creat the geojson files. To do this all records of a particular county were selected using a sql expression. From there a new shapefile was created for each county containing all the blocks for that county. The OSGeo4W was then called to convert these shapefiles to geojson files. The approach for ordering the top 10 counties in descending order is to first create a total population field. Then go through the shapefiles for each county (created above) and calculate the total population. The population was then added to the countynames file and sorted. From there the top 10 were printed."
   ]
  },
  {
   "cell_type": "code",
   "execution_count": 17,
   "metadata": {
    "collapsed": false
   },
   "outputs": [],
   "source": [
    "#setting up and importing arcpy\n",
    "import sys\n",
    "sys.path.append('C:\\\\Program Files (x86)\\\\ArcGIS\\\\Desktop10.3\\\\bin')\n",
    "sys.path.append('C:\\\\Program Files (x86)\\\\ArcGIS\\\\Desktop10.3\\\\arcpy')\n",
    "sys.path.append('C:\\\\Program Files (x86)\\\\ArcGIS\\\\Desktop10.3\\\\ArcToolbox\\\\Scripts')\n",
    "import arcpy\n",
    "arcpy.env.workspace = r\"V:\\UW\\Geog 458\\Lab01\"\n",
    "arcpy.env.overwriteOutput = True\n",
    "\n",
    "#setting up and importing geojson file exporter\n",
    "from subprocess import call\n",
    "import os\n",
    "os.environ[\"GDAL_DATA\"] = \"C:\\\\OSGeo4W\\\\share\\\\gdal\"\n",
    "os.environ[\"GDAL_DRIVER_PATH\"] = \"C:\\\\OSGeo4W\\\\bin\\\\gdalplugins\"\n",
    "os.environ[\"PROJ_LIB\"] = \"C:\\\\OSGeo4W\\\\share\\\\proj\"\n",
    "os.environ[\"PATH\"] = \"C:\\\\OSGeo4W\\\\bin;\"+os.environ[\"PATH\"]+\";C:\\\\OSGeo4W\\\\apps\\\\msys\\\\bin;C:\\\\OSGeo4W\\\\apps\\\\Python27\\\\Scripts\"\n",
    "    \n",
    "\n",
    "    \n",
    "#table1 = r\"saep_bg10\\saep_bg10.shp\" - List of blocks with Coutnty FIPS\n",
    "#field1 = \"COUNTYFIP10\"\n",
    "#table2 = \"WashingtonFIPS.dbf\" - List of counties with FIPS\n",
    "#field2 = \"FIPSCounty\"\n",
    "#field2_1 = \"CountyName\"\n",
    "#out_path = r\"Z:\\Google Drive\\UW\\Geog 458\\Lab01\\Output\"\n",
    "#year = 2013\n",
    "def jsonOutput(table1, field1, table2, field2, field2_1, out_path, year):\n",
    "    \n",
    "    #add totalpop field for each county - to be used when printing Counties in descending order\n",
    "    arcpy.AddField_management(\"V:\\\\UW\\\\Geog 458\\\\Lab01\\\\\" + table2, \"TotalPop\", \"DOUBLE\")\n",
    "    \n",
    "    #make geojson files\n",
    "    with arcpy.da.SearchCursor(table2, [field2, field2_1]) as cursor:\n",
    "        for row in cursor:\n",
    "            \n",
    "            #out_name = county name\n",
    "            out_name = row[1]\n",
    "            \n",
    "            #select bloks with same county FIPS\n",
    "            sql = arcpy.AddFieldDelimiters(table1, field1) + \" = '\" + str(row[0]) + \"'\"\n",
    "            \n",
    "            #make teoporary shapefile for each county containing all blocks \n",
    "            arcpy.FeatureClassToFeatureClass_conversion(table1, out_path, out_name, sql)  \n",
    "            \n",
    "            #convert county shapefile to geojson file               \n",
    "            call(['C:\\\\OSGeo4W\\\\bin\\\\ogr2ogr','-f','GeoJSON','-t_srs','WGS84','-s_srs','EPSG:2927','V:\\\\UW\\\\Geog 458\\\\Lab01\\\\Output\\\\' + out_name + '.geojson'  ,'V:\\\\UW\\Geog 458\\\\Lab01\\\\Output\\\\' + out_name + \".shp\"])\n",
    "            \n",
    "            #Print Counties by totalpop Descending\n",
    "            #populate totalpop field\n",
    "            with arcpy.da.SearchCursor(\"V:\\\\UW\\\\Geog 458\\\\Lab01\\\\Output\\\\\" + out_name + \".shp\", [\"POP\" + str(year)]) as cursor2:\n",
    "                \n",
    "                #initialize totalpop to keep track of pop as records are traversed\n",
    "                totalPop = 0.0\n",
    "                \n",
    "                #loop through rows and add total pop\n",
    "                for row2 in cursor2:\n",
    "                    totalPop = totalPop + row2[0]\n",
    "                \n",
    "                #concatinate sql expression in order to grab proper county record\n",
    "                sql2 = arcpy.AddFieldDelimiters(table2, field2_1) + \" = '\" + out_name + \"'\"\n",
    "                \n",
    "                cursor3 = arcpy.da.UpdateCursor(table2, [\"TotalPop\"], sql2)\n",
    "                for row3 in cursor3:\n",
    "                    row3[0] = totalPop\n",
    "                    cursor3.updateRow(row3)\n",
    "                    del row3\n",
    "                del cursor3\n",
    "                \n",
    "            #delete individual county shapefile (it was only temporary to make the geojason file and count totalpop)\n",
    "            arcpy.Delete_management(out_name + \".shp\")\n",
    "            \n",
    "    #sort totatpol field\n",
    "    arcpy.Sort_management(table2, \"Counties_Sort\", [[\"TotalPop\", \"DESCENDING\"]])\n",
    "    \n",
    "    #print top 10 counties\n",
    "    cursor4 = arcpy.da.SearchCursor(\"Counties_Sort\", [\"TotalPop\", field2_1])\n",
    "    print \"Top 10 Counties Ordered by Total Poplation in Descending Order:\"\n",
    "    \n",
    "    #initialize count to keep track of top 10\n",
    "    count = 0\n",
    "    \n",
    "    for row4 in cursor4:\n",
    "        if count < 10:\n",
    "            print str(count + 1) + \".\\t\" + row4[1] + \": \" + str(row4[0])\n",
    "            count += 1\n",
    "        del row4\n",
    "    del cursor4\n",
    "   \n",
    "    "
   ]
  },
  {
   "cell_type": "code",
   "execution_count": 18,
   "metadata": {
    "collapsed": false,
    "scrolled": true
   },
   "outputs": [
    {
     "name": "stdout",
     "output_type": "stream",
     "text": [
      "Top 10 Counties Ordered by Total Poplation in Descending Order:\n",
      "1.\tKing: 1981900.0\n",
      "2.\tPierce: 814500.0\n",
      "3.\tSnohomish: 730500.0\n",
      "4.\tSpokane: 480000.0\n",
      "5.\tClark: 435500.0\n",
      "6.\tThurston: 260100.0\n",
      "7.\tKitsap: 254000.0\n",
      "8.\tYakima: 247250.0\n",
      "9.\tWhatcom: 205800.0\n",
      "10.\tBenton: 183400.0\n"
     ]
    }
   ],
   "source": [
    "#table1 = r\"saep_bg10\\saep_bg10.shp\" - List of blocks with Coutnty FIPS\n",
    "#field1 = \"COUNTYFIP10\"\n",
    "#table2 = \"WashingtonFIPS.dbf\" - List of counties with FIPS\n",
    "#field2 = \"FIPSCounty\"\n",
    "#field2_1 = \"CountyName\"\n",
    "#out_path = r\"Z:\\Google Drive\\UW\\Geog 458\\Lab01\\Output\"\n",
    "#year = 2013\n",
    "jsonOutput(r\"saep_bg10\\saep_bg10.shp\", \"COUNTYFP10\", \n",
    "           \"WashingtonFIPS.dbf\", \"FIPSCounty\", \"CountyName\", \n",
    "           r\"Z:\\Google Drive\\UW\\Geog 458\\Lab01\\Output\", 2013)"
   ]
  },
  {
   "cell_type": "code",
   "execution_count": null,
   "metadata": {
    "collapsed": true
   },
   "outputs": [],
   "source": []
  }
 ],
 "metadata": {
  "kernelspec": {
   "display_name": "Python 2",
   "language": "python",
   "name": "python2"
  },
  "language_info": {
   "codemirror_mode": {
    "name": "ipython",
    "version": 2
   },
   "file_extension": ".py",
   "mimetype": "text/x-python",
   "name": "python",
   "nbconvert_exporter": "python",
   "pygments_lexer": "ipython2",
   "version": "2.7.10"
  }
 },
 "nbformat": 4,
 "nbformat_minor": 0
}
