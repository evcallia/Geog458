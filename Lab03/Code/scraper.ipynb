{
 "cells": [
  {
   "cell_type": "markdown",
   "metadata": {},
   "source": [
    "Evan Callia, Kyle Kusuda\n",
    "\n",
    "This scraper takes the top 10 places to visit in Seattle. It then goes into the link for those places and grabs the address. Once the address has been obtained it uses nominatum to convert the addresses to point coordinates and exports these points into geoJSON and shapefiles"
   ]
  },
  {
   "cell_type": "markdown",
   "metadata": {},
   "source": [
    "If we wanted to grab information from a certain website we could decide what to grab and use it\n",
    "as freely as the website would let us. In this case we took addresses and used the Nominatim API\n",
    "to get the lat-long coordinates to map.\n",
    "\n",
    "Some difficulties we had along the way were converting to geoJson files with the correct spatial reference\n",
    "and aligning ourselves in terms of hierarchy within the loops/lists/dictionaries.\n",
    "    \n",
    "Evan and Kyle collaborated on the code as well as looking at online code sources for ideas on how to solve\n",
    "the more complext problems.\n",
    "    \n",
    "Time spent on code: 7-10 hours each"
   ]
  },
  {
   "cell_type": "code",
   "execution_count": 13,
   "metadata": {
    "collapsed": false,
    "scrolled": true
   },
   "outputs": [
    {
     "data": {
      "text/plain": [
       "0"
      ]
     },
     "execution_count": 13,
     "metadata": {},
     "output_type": "execute_result"
    }
   ],
   "source": [
    "#setting system pathways for arcmap\n",
    "import sys\n",
    "sys.path.append('C:\\\\Program Files (x86)\\\\ArcGIS\\\\Desktop10.3\\\\bin')\n",
    "sys.path.append('C:\\\\Program Files (x86)\\\\ArcGIS\\\\Desktop10.3\\\\arcpy')\n",
    "sys.path.append('C:\\\\Program Files (x86)\\\\ArcGIS\\\\Desktop10.3\\\\ArcToolbox\\\\Scripts')\n",
    "\n",
    "#setting up ability to export as geojson file\n",
    "from subprocess import call\n",
    "import os\n",
    "os.environ[\"GDAL_DATA\"] = \"C:\\\\OSGeo4W\\\\share\\\\gdal\"\n",
    "os.environ[\"GDAL_DRIVER_PATH\"] = \"C:\\\\OSGeo4W\\\\bin\\\\gdalplugins\"\n",
    "os.environ[\"PROJ_LIB\"] = \"C:\\\\OSGeo4W\\\\share\\\\proj\"\n",
    "os.environ[\"PATH\"] = \"C:\\\\OSGeo4W\\\\bin;\"+os.environ[\"PATH\"]+\";C:\\\\OSGeo4W\\\\apps\\\\msys\\\\bin;C:\\\\OSGeo4W\\\\apps\\\\Python27\\\\Scripts\"\n",
    "\n",
    "#importhing methods used\n",
    "import urllib2\n",
    "import lxml.html\n",
    "import requests\n",
    "import json\n",
    "import arcpy\n",
    "arcpy.env.workspace = r\"V:\\UW\\Geog 458\\Lab03\"\n",
    "arcpy.env.overwriteOutput = True\n",
    "\n",
    "#Set up html parser\n",
    "url = \"http://www.tripadvisor.com/Attractions-g60878-Activities-Seattle_Washington.html\"\n",
    "html = urllib2.urlopen(url).read()\n",
    "dom = lxml.html.fromstring(html)\n",
    "dom.make_links_absolute(url)\n",
    "\n",
    "#grab all places mentioned on website\n",
    "places = dom.cssselect(\"div.property_title > a:first-child\")\n",
    "\n",
    "#make a list of place names\n",
    "titles = [link.text for link in places]\n",
    "\n",
    "#make a list of all the links\n",
    "links = [link.attrib['href'] for link in places]\n",
    "\n",
    "#list of all the places (populated later)\n",
    "allPlaces = []\n",
    "\n",
    "#go into links and pull out addresses for top 3 places\n",
    "i = 0\n",
    "while(i < 3):\n",
    "    #set up html parser for second page\n",
    "    newurl = links[i]\n",
    "    htmltwo = urllib2.urlopen(newurl).read()\n",
    "    domtwo = lxml.html.fromstring(htmltwo)\n",
    "    domtwo.make_links_absolute(newurl)\n",
    "        \n",
    "    #grab all components of the address\n",
    "    street = domtwo.cssselect(\"span.street-address\")\n",
    "    city = domtwo.cssselect(\"span[property=addressLocality]\")\n",
    "    state = domtwo.cssselect(\"span[property=addressRegion]\")\n",
    "    zipcode = domtwo.cssselect(\"span[property=postalCode]\")\n",
    "\n",
    "    #creates the actual text names from span objects\n",
    "    streets = [strName.text for strName in street]\n",
    "    cities = [ctName.text for ctName in city] #Is this necessary or can we just put Seattle?\n",
    "    states = [stName.text for stName in state] #or just WA?\n",
    "    zipcodes = [zipC.text for zipC in zipcode]\n",
    "        \n",
    "    #make dictionary out of title/street/city/state/zip/link and populate our allPlaces list with them\n",
    "    allPlaces.append({\"Title\": titles[i], \"Street\": streets, \"City\": cities, \"State\": states, \"Zipcode\": zipcodes, \"Link\": links[i]})\n",
    "    i += 1\n",
    "\n",
    "#make feature class to put our points in (setting refrecences and adding fields needed)\n",
    "sr = arcpy.SpatialReference(4326)\n",
    "arcpy.CreateFeatureclass_management(r\"V:\\UW\\Geog 458\\Lab03\", \"test.shp\", \"POINT\",\"\", \"\", \"\", sr)\n",
    "arcpy.AddField_management(r\"V:\\UW\\Geog 458\\Lab03\\test.shp\", \"NAME\", \"Text\")\n",
    "\n",
    "#list of our points to be made (populated later)\n",
    "points = []\n",
    "\n",
    "count = 0\n",
    "for row in allPlaces:\n",
    "    #concatinate url searches and retrieve data in json format\n",
    "    query = \"http://nominatim.openstreetmap.org/search?q=\" + row[\"Street\"][0].replace(\" \", \"+\") + \"+\" + row[\"City\"][0].replace(\" \", \"+\") + \",+\" + row[\"State\"][0].replace(\" \", \"+\") + \"+\" + row[\"Zipcode\"][0].replace(\" \", \"+\") + \"&format=json&polygon=1&addressdetails=1\"    \n",
    "    response = requests.get(query)\n",
    "    response_list = json.loads(response.content)\n",
    "        \n",
    "    #grab latitude and longitude from json returned\n",
    "    lat = \"\"\n",
    "    lon = \"\"\n",
    "    for row2 in response_list:\n",
    "        if \"lat\" in row2:\n",
    "            lat = row2[\"lat\"]\n",
    "        if \"lon\" in row2:\n",
    "            lon = row2[\"lon\"]\n",
    "            break\n",
    "            \n",
    "    #put the name and coordinates of each point in our points list\n",
    "    points.append((titles[count], [float(lon), float(lat)]))\n",
    "    count += 1\n",
    "\n",
    "#populate shapefile with out points\n",
    "cursor = arcpy.da.InsertCursor(r\"V:\\UW\\Geog 458\\Lab03\\test.shp\", (\"NAME\", \"SHAPE@XY\"))\n",
    "for row in points:\n",
    "    cursor.insertRow(row)\n",
    "del cursor\n",
    "   \n",
    "#convert shapefile to geoJSON file\n",
    "call(['C:\\\\OSGeo4W\\\\bin\\\\ogr2ogr','-f','GeoJSON','-t_srs','WGS84','-s_srs','EPSG:4326', 'V:\\\\UW\\\\Geog 458\\\\Lab03\\\\test.geojson','V:\\\\UW\\\\Geog 458\\\\Lab03\\\\test.shp'])\n",
    "\n",
    "    \n",
    "\n",
    "    \n",
    "    "
   ]
  },
  {
   "cell_type": "code",
   "execution_count": null,
   "metadata": {
    "collapsed": true
   },
   "outputs": [],
   "source": []
  }
 ],
 "metadata": {
  "kernelspec": {
   "display_name": "Python 2",
   "language": "python",
   "name": "python2"
  },
  "language_info": {
   "codemirror_mode": {
    "name": "ipython",
    "version": 2
   },
   "file_extension": ".py",
   "mimetype": "text/x-python",
   "name": "python",
   "nbconvert_exporter": "python",
   "pygments_lexer": "ipython2",
   "version": "2.7.10"
  }
 },
 "nbformat": 4,
 "nbformat_minor": 0
}
